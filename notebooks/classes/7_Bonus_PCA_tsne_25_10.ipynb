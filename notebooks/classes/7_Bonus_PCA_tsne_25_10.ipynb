{
 "cells": [
  {
   "cell_type": "code",
   "execution_count": 1,
   "metadata": {
    "id": "iqaP91dRUN0_"
   },
   "outputs": [],
   "source": [
    "from collections import defaultdict\n",
    "\n",
    "import matplotlib\n",
    "import matplotlib.cm as cm\n",
    "import matplotlib.pyplot as plt\n",
    "import numpy as np\n",
    "import pandas as pd\n",
    "import seaborn as sns\n",
    "from sklearn.preprocessing import StandardScaler\n",
    "\n",
    "%matplotlib inline\n",
    "pd.options.display.float_format = \"{:.2f}\".format"
   ]
  },
  {
   "cell_type": "code",
   "execution_count": 2,
   "metadata": {
    "id": "nmXn1tVxUN1D"
   },
   "outputs": [],
   "source": [
    "import warnings\n",
    "\n",
    "warnings.filterwarnings(\"ignore\")"
   ]
  },
  {
   "cell_type": "markdown",
   "metadata": {
    "id": "idYB_6w5UN1F"
   },
   "source": [
    "## Проклятие размерности (curse of dimentionality)\n",
    "\n",
    "Часто датасеты состоят из очень большого количества признаков - тысячи.  \n",
    "Это затрудняет поиск моделей.  \n",
    "Можно сильно уменьшить размерность без больших потерь информации, то есть сократить объем входных данных, упростить расчет модели."
   ]
  },
  {
   "cell_type": "markdown",
   "metadata": {
    "id": "DW00qgwKUN1G"
   },
   "source": [
    "Пространство вариантов растет экспоненциально:\n",
    "\n",
    "Рассмотрим отрезок длины 10  \n",
    "\n",
    "$$10^1 = 10$$\n",
    "$$10^2 = 100$$\n",
    "$$10^3 = 1000$$\n",
    "...\n",
    "\n",
    "Экспоненциальный рост\n",
    "\n",
    "![](https://images.slideplayer.com/12/3353293/slides/slide_5.jpg)"
   ]
  },
  {
   "cell_type": "markdown",
   "metadata": {
    "id": "ceRYvkH-UN1G"
   },
   "source": [
    "Рассмотрим единичный гиперкуб.\n",
    "\n",
    "В двумерном пространстве это просто квадрат $1\\times1$\n",
    "\n",
    "Какова вероятность того, что точка попадет в отступ 0.001 от границы?"
   ]
  },
  {
   "cell_type": "code",
   "execution_count": 3,
   "metadata": {
    "colab": {
     "base_uri": "https://localhost:8080/"
    },
    "id": "7MRutNhHUN1H",
    "outputId": "f14941e4-8e45-4d68-f429-7f9584bbe1a7"
   },
   "outputs": [
    {
     "data": {
      "text/plain": [
       "0.996004"
      ]
     },
     "execution_count": 3,
     "metadata": {},
     "output_type": "execute_result"
    }
   ],
   "source": [
    "# площадь внешнего квадрата\n",
    "1 * 1\n",
    "\n",
    "# площадь внутреннего квадрата\n",
    "(1 - 0.001 * 2) * (1 - 0.001 * 2)"
   ]
  },
  {
   "cell_type": "code",
   "execution_count": 4,
   "metadata": {
    "colab": {
     "base_uri": "https://localhost:8080/"
    },
    "id": "GTgkRPEyUN1I",
    "outputId": "ebb6eaaf-2b53-4d13-adc7-54faef542c55"
   },
   "outputs": [
    {
     "data": {
      "text/plain": [
       "0.0039959999999999996"
      ]
     },
     "execution_count": 4,
     "metadata": {},
     "output_type": "execute_result"
    }
   ],
   "source": [
    "1 * 1 - (1 - 0.001 * 2) * (1 - 0.001 * 2)"
   ]
  },
  {
   "cell_type": "code",
   "execution_count": 5,
   "metadata": {
    "id": "kiEXNfQlUN1J"
   },
   "outputs": [],
   "source": [
    "def point_prob(n_dimensions, length, margin):\n",
    "    return (\n",
    "        length**n_dimensions - (length - margin * 2) ** (n_dimensions)\n",
    "    ) / length**n_dimensions"
   ]
  },
  {
   "cell_type": "code",
   "execution_count": 6,
   "metadata": {
    "colab": {
     "base_uri": "https://localhost:8080/"
    },
    "id": "JtyMhF-uUN1K",
    "outputId": "6756ed86-5a11-44f7-8184-61dcda057531"
   },
   "outputs": [
    {
     "data": {
      "text/plain": [
       "0.0039959999999999996"
      ]
     },
     "execution_count": 6,
     "metadata": {},
     "output_type": "execute_result"
    }
   ],
   "source": [
    "point_prob(2, 1, 0.001)"
   ]
  },
  {
   "cell_type": "code",
   "execution_count": 7,
   "metadata": {
    "colab": {
     "base_uri": "https://localhost:8080/"
    },
    "id": "bnY9i2DgUN1L",
    "outputId": "d18c9428-f678-4874-e620-3634b2aa0ae4"
   },
   "outputs": [
    {
     "data": {
      "text/plain": [
       "0.005988007999999989"
      ]
     },
     "execution_count": 7,
     "metadata": {},
     "output_type": "execute_result"
    }
   ],
   "source": [
    "point_prob(3, 1, 0.001)"
   ]
  },
  {
   "cell_type": "code",
   "execution_count": 8,
   "metadata": {
    "colab": {
     "base_uri": "https://localhost:8080/"
    },
    "id": "DVPhgnjJUN1L",
    "outputId": "ee6bf43b-8492-4149-adb3-80a4a61786c8"
   },
   "outputs": [
    {
     "data": {
      "text/plain": [
       "0.019820956648050614"
      ]
     },
     "execution_count": 8,
     "metadata": {},
     "output_type": "execute_result"
    }
   ],
   "source": [
    "point_prob(10, 1, 0.001)"
   ]
  },
  {
   "cell_type": "code",
   "execution_count": 9,
   "metadata": {
    "colab": {
     "base_uri": "https://localhost:8080/"
    },
    "id": "3JSTt2BKUN1L",
    "outputId": "8b0d9886-3320-477d-85b8-a6ff9d1aaf29"
   },
   "outputs": [
    {
     "data": {
      "text/plain": [
       "0.999999997979714"
      ]
     },
     "execution_count": 9,
     "metadata": {},
     "output_type": "execute_result"
    }
   ],
   "source": [
    "point_prob(10000, 1, 0.001)"
   ]
  },
  {
   "cell_type": "markdown",
   "metadata": {
    "id": "x1PQkBCpUN1M"
   },
   "source": [
    "Среднее расстояние между точками гиперкуба:"
   ]
  },
  {
   "cell_type": "code",
   "execution_count": 10,
   "metadata": {
    "id": "ZNIjl-pfUN1M"
   },
   "outputs": [],
   "source": [
    "from scipy.spatial import distance\n",
    "\n",
    "\n",
    "def avg_dist(n_dimensions):\n",
    "    dist = 0.0\n",
    "    n_points = 100000\n",
    "    for i in range(n_points):\n",
    "        p1 = np.random.rand(n_dimensions)\n",
    "        p2 = np.random.rand(n_dimensions)\n",
    "        dist += distance.euclidean(p1, p2)\n",
    "    return dist / n_points"
   ]
  },
  {
   "cell_type": "code",
   "execution_count": 11,
   "metadata": {
    "colab": {
     "base_uri": "https://localhost:8080/"
    },
    "id": "_KUrJdy7itkc",
    "outputId": "0f6c2f96-7e47-4d8c-8111-aa84f46ccf57"
   },
   "outputs": [
    {
     "data": {
      "text/plain": [
       "0.521710338749159"
      ]
     },
     "execution_count": 11,
     "metadata": {},
     "output_type": "execute_result"
    }
   ],
   "source": [
    "avg_dist(2)"
   ]
  },
  {
   "cell_type": "code",
   "execution_count": 12,
   "metadata": {
    "colab": {
     "base_uri": "https://localhost:8080/"
    },
    "id": "jGqEDjECUN1N",
    "outputId": "aaca94b2-6e00-443f-80c5-690aad9d1a1e"
   },
   "outputs": [
    {
     "data": {
      "text/plain": [
       "9.665427752796319"
      ]
     },
     "execution_count": 12,
     "metadata": {},
     "output_type": "execute_result"
    }
   ],
   "source": [
    "avg_dist(561)"
   ]
  },
  {
   "cell_type": "code",
   "execution_count": 13,
   "metadata": {
    "id": "aS3wI8FrUN1N"
   },
   "outputs": [],
   "source": [
    "# this is tooo sloooow\n",
    "# avg_dist(1)\n",
    "# 0.3332980439577846"
   ]
  },
  {
   "cell_type": "code",
   "execution_count": 14,
   "metadata": {
    "id": "ctgNm6rOUN1N"
   },
   "outputs": [],
   "source": [
    "# avg_dist(2)\n",
    "# 0.5218287867554282"
   ]
  },
  {
   "cell_type": "code",
   "execution_count": 15,
   "metadata": {
    "id": "3djT8jP6UN1N"
   },
   "outputs": [],
   "source": [
    "# avg_dist(3)\n",
    "# 0.6621043139420382"
   ]
  },
  {
   "cell_type": "code",
   "execution_count": 16,
   "metadata": {
    "id": "5X3vB5jrUN1O"
   },
   "outputs": [],
   "source": [
    "# avg_dist(10)\n",
    "# 1.2674922241953468"
   ]
  },
  {
   "cell_type": "code",
   "execution_count": 17,
   "metadata": {
    "id": "-16ukSgjUN1O"
   },
   "outputs": [],
   "source": [
    "# avg_dist(100)\n",
    "# 4.076181952866157"
   ]
  },
  {
   "cell_type": "code",
   "execution_count": 18,
   "metadata": {
    "id": "4LCp79dWUN1O"
   },
   "outputs": [],
   "source": [
    "# avg_dist(1000)\n",
    "# 12.906989192432318"
   ]
  },
  {
   "cell_type": "code",
   "execution_count": 19,
   "metadata": {
    "id": "9SpdAx32UN1O"
   },
   "outputs": [],
   "source": [
    "# avg_dist(10000)\n",
    "# 40.82415131097075"
   ]
  },
  {
   "cell_type": "markdown",
   "metadata": {
    "id": "rrUTaxhTUN1P"
   },
   "source": [
    "Новая точка будет далеко от других, что означает, что построенная модель скорее всего не учитывает новые данные, то есть модель недообучена или переобучена"
   ]
  }
 ],
 "metadata": {
  "colab": {
   "provenance": []
  },
  "kernelspec": {
   "display_name": "Python 3 (ipykernel)",
   "language": "python",
   "name": "python3"
  },
  "language_info": {
   "codemirror_mode": {
    "name": "ipython",
    "version": 3
   },
   "file_extension": ".py",
   "mimetype": "text/x-python",
   "name": "python",
   "nbconvert_exporter": "python",
   "pygments_lexer": "ipython3",
   "version": "3.9.12"
  },
  "varInspector": {
   "cols": {
    "lenName": 16,
    "lenType": 16,
    "lenVar": 40
   },
   "kernels_config": {
    "python": {
     "delete_cmd_postfix": "",
     "delete_cmd_prefix": "del ",
     "library": "var_list.py",
     "varRefreshCmd": "print(var_dic_list())"
    },
    "r": {
     "delete_cmd_postfix": ") ",
     "delete_cmd_prefix": "rm(",
     "library": "var_list.r",
     "varRefreshCmd": "cat(var_dic_list()) "
    }
   },
   "types_to_exclude": [
    "module",
    "function",
    "builtin_function_or_method",
    "instance",
    "_Feature"
   ],
   "window_display": false
  }
 },
 "nbformat": 4,
 "nbformat_minor": 4
}
