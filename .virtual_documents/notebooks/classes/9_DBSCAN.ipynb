import warnings

import matplotlib.pyplot as plt
import numpy as np
import pandas as pd
import seaborn as sns
from scipy.cluster.hierarchy import dendrogram, linkage
from sklearn.cluster import DBSCAN, AgglomerativeClustering
from sklearn.datasets import make_blobs, make_circles, make_classification, make_moons
from sklearn.metrics import silhouette_score
from tqdm import tqdm

warnings.filterwarnings("ignore")


X, y_true = make_blobs(n_samples=300, centers=4, cluster_std=1.5, random_state=10)
plt.scatter(X[:, 0], X[:, 1], s=50);


plt.figure(figsize=(20, 10))
linkage_ = linkage(X, method="ward")
dendrogram_ = dendrogram(linkage_)


agg = AgglomerativeClustering(n_clusters=2).fit(X)
labels = agg.labels_

plt.scatter(X[:, 0], X[:, 1], c=labels);


agg = AgglomerativeClustering(n_clusters=3).fit(X)
labels = agg.labels_

plt.scatter(X[:, 0], X[:, 1], c=labels);


agg = AgglomerativeClustering(n_clusters=4).fit(X)
labels = agg.labels_

plt.scatter(X[:, 0], X[:, 1], c=labels);


agg = AgglomerativeClustering(n_clusters=5).fit(X)
labels = agg.labels_

plt.scatter(X[:, 0], X[:, 1], c=labels);


silhouette = []
for i in tqdm(range(2, 11)):
    agg = AgglomerativeClustering(n_clusters=i).fit(X)
    labels = agg.labels_
    score = silhouette_score(X, labels)
    silhouette.append(score)


plt.plot(range(2, 11), silhouette, marker="o");


# AgglomerativeClustering?


def agg_clustering(n_clusters, X, linkage="ward"):
    agg = AgglomerativeClustering(n_clusters=n_clusters, linkage=linkage).fit(X)
    labels = agg.labels_

    plt.scatter(X[:, 0], X[:, 1], c=labels)
    plt.title(f"{n_clusters} кластера")
    plt.show();


X, y = make_moons(200, noise=0.05, random_state=10)
plt.scatter(X[:, 0], X[:, 1], s=50);


agg_clustering(2, X, "ward")


agg_clustering(2, X, "single")


agg_clustering(8, X, "ward")


silhouette = []
for i in tqdm(range(2, 11)):
    agg = AgglomerativeClustering(n_clusters=i).fit(X)
    labels = agg.labels_
    score = silhouette_score(X, labels)
    silhouette.append(score)


plt.plot(range(2, 11), silhouette, marker="o");


agg_clustering(9, X)


silhouette = []
for i in tqdm(range(2, 11)):
    agg = AgglomerativeClustering(n_clusters=i, linkage="single").fit(X)
    labels = agg.labels_
    score = silhouette_score(X, labels)
    silhouette.append(score)
plt.plot(range(2, 11), silhouette, marker="o");


X, y = make_circles(n_samples=300, noise=0.03, random_state=10, factor=0.5)
plt.scatter(X[:, 0], X[:, 1], s=50);


agg_clustering(2, X)


agg_clustering(3, X)


silhouette = []
for i in tqdm(range(2, 21)):
    agg = AgglomerativeClustering(n_clusters=i).fit(X)
    labels = agg.labels_
    score = silhouette_score(X, labels)
    silhouette.append(score)


plt.plot(range(2, 21), silhouette, marker="o");


agg_clustering(3, X, "single")


silhouette = []
for i in tqdm(range(2, 10)):
    agg = AgglomerativeClustering(n_clusters=i, linkage="single").fit(X)
    labels = agg.labels_
    score = silhouette_score(X, labels)
    silhouette.append(score)


plt.plot(range(2, 10), silhouette, marker="o");


X, y_true = make_blobs(n_samples=300, centers=3, random_state=170)
transformation = [[0.60834549, -0.63667341], [-0.40887718, 0.85253229]]
X = np.dot(X, transformation)
plt.scatter(X[:, 0], X[:, 1], s=50);


agg_clustering(2, X)


agg_clustering(3, X)


silhouette = []
for i in tqdm(range(2, 11)):
    agg = AgglomerativeClustering(n_clusters=i).fit(X)
    labels = agg.labels_
    score = silhouette_score(X, labels)
    silhouette.append(score)


plt.plot(range(2, 11), silhouette, marker="o");


agg_clustering(4, X, "single")


silhouette = []
for i in tqdm(range(2, 11)):
    agg = AgglomerativeClustering(n_clusters=i, linkage="single").fit(X)
    labels = agg.labels_
    score = silhouette_score(X, labels)
    silhouette.append(score)
plt.plot(range(2, 11), silhouette, marker="o");


X, y_true = make_blobs(n_samples=300, centers=4, cluster_std=1.5, random_state=10)
plt.scatter(X[:, 0], X[:, 1], s=50);


dbscan = DBSCAN(eps=0.5, min_samples=5).fit(X)
labels = dbscan.labels_


plt.scatter(X[:, 0], X[:, 1], c=labels);


uniq_labels = np.unique(labels)
uniq_labels


n_clusters = len(uniq_labels[uniq_labels != -1])
n_clusters


dbscan = DBSCAN().fit(X)
labels = dbscan.labels_
uniq_labels = np.unique(labels)
n_clusters = len(uniq_labels[uniq_labels != -1])
print(f"кластеров: {n_clusters}")
plt.scatter(X[:, 0], X[:, 1], c=labels);


dbscan = DBSCAN(eps=1, min_samples=5).fit(X)
labels = dbscan.labels_
uniq_labels = np.unique(labels)
n_clusters = len(uniq_labels[uniq_labels != -1])
print(f"кластеров: {n_clusters}")
plt.scatter(X[:, 0], X[:, 1], c=labels);


dbscan = DBSCAN(eps=0.1, min_samples=5).fit(X)
labels = dbscan.labels_
uniq_labels = np.unique(labels)
n_clusters = len(uniq_labels[uniq_labels != -1])
print(f"кластеров: {n_clusters}")
plt.scatter(X[:, 0], X[:, 1], c=labels);


np.unique(labels)[np.unique(labels) != -1]


silhouette = []
clusters = []
eps_range = np.arange(0.1, 2, 0.1)
for i in tqdm(eps_range):
    dbscan = DBSCAN(eps=i).fit(X)
    labels = dbscan.labels_
    uniq_labels = np.unique(labels)
    n_clusters = len(uniq_labels[uniq_labels != -1])
    if n_clusters > 1:
        score = silhouette_score(X, labels)
    else:
        score = 0
    silhouette.append(score)
    clusters.append(n_clusters)


fig, ax1 = plt.subplots()

color = "tab:red"
ax1.plot(eps_range, silhouette, marker="o", color=color)
ax1.set_xlabel("eps")
ax1.set_ylabel("silhouette", color=color)
ax1.tick_params(axis="y", labelcolor=color)

ax2 = ax1.twinx()  # instantiate a second axes that shares the same x-axis

color = "tab:blue"
ax2.plot(eps_range, clusters, marker="o", color=color)
ax2.set_ylabel("n_clusters", color=color)
ax2.tick_params(axis="y", labelcolor=color)

fig.tight_layout()  # otherwise the right y-label is slightly clipped
plt.show()


def dbscan_clustering(eps_range, X):
    eps_range = eps_range
    silhouette = []
    clusters = []
    for i in tqdm(eps_range):
        dbscan = DBSCAN(eps=i).fit(X)
        labels = dbscan.labels_
        uniq_labels = np.unique(labels)
        n_clusters = len(uniq_labels[uniq_labels != -1])
        if n_clusters > 1:
            score = silhouette_score(X, labels)
        else:
            score = 0
        silhouette.append(score)
        clusters.append(n_clusters)

    fig, ax1 = plt.subplots()

    color = "tab:red"
    ax1.plot(eps_range, silhouette, marker="o", color=color)
    ax1.set_xlabel("eps")
    ax1.set_ylabel("silhouette", color=color)
    ax1.tick_params(axis="y", labelcolor=color)

    ax2 = ax1.twinx()  # instantiate a second axes that shares the same x-axis

    color = "tab:blue"
    ax2.plot(eps_range, clusters, marker="o", color=color)
    ax2.set_ylabel("n_clusters", color=color)
    ax2.tick_params(axis="y", labelcolor=color)

    fig.tight_layout()  # otherwise the right y-label is slightly clipped
    plt.show()


X, y = make_moons(200, noise=0.05, random_state=10)
plt.scatter(X[:, 0], X[:, 1], s=50);


eps_range = np.arange(0.01, 0.3, 0.05)
dbscan_clustering(eps_range, X)


dbscan = DBSCAN(eps=0.2, min_samples=5).fit(X)
labels = dbscan.labels_
uniq_labels = np.unique(labels)
n_clusters = len(uniq_labels[uniq_labels != -1])
print(f"кластеров: {n_clusters}")
plt.scatter(X[:, 0], X[:, 1], c=labels);


X, y = make_circles(n_samples=300, noise=0.03, random_state=10, factor=0.5)
plt.scatter(X[:, 0], X[:, 1], s=50);


eps_range = np.arange(0.01, 0.8, 0.05)
dbscan_clustering(eps_range, X)


dbscan = DBSCAN(eps=0.2, min_samples=5).fit(X)
labels = dbscan.labels_
uniq_labels = np.unique(labels)
n_clusters = len(uniq_labels[uniq_labels != -1])
print(f"кластеров: {n_clusters}")
plt.scatter(X[:, 0], X[:, 1], c=labels);


X, y_true = make_blobs(n_samples=300, centers=3, random_state=170)
transformation = [[0.60834549, -0.63667341], [-0.40887718, 0.85253229]]
X = np.dot(X, transformation)
plt.scatter(X[:, 0], X[:, 1], s=50);


eps_range = np.arange(0.1, 1.1, 0.1)
dbscan_clustering(eps_range, X)


dbscan = DBSCAN(eps=0.6, min_samples=5).fit(X)
labels = dbscan.labels_
uniq_labels = np.unique(labels)
n_clusters = len(uniq_labels[uniq_labels != -1])
print(f"кластеров: {n_clusters}")
plt.scatter(X[:, 0], X[:, 1], c=labels);


dbscan = DBSCAN(eps=0.5, min_samples=5).fit(X)
labels = dbscan.labels_
uniq_labels = np.unique(labels)
n_clusters = len(uniq_labels[uniq_labels != -1])
print(f"кластеров: {n_clusters}")
plt.scatter(X[:, 0], X[:, 1], c=labels);


dbscan = DBSCAN(eps=0.8, min_samples=5).fit(X)
labels = dbscan.labels_
uniq_labels = np.unique(labels)
n_clusters = len(uniq_labels[uniq_labels != -1])
print(f"кластеров: {n_clusters}")
plt.scatter(X[:, 0], X[:, 1], c=labels);


from pathlib import Path

data_path = Path.cwd().parents[1].joinpath("data", "2019.csv")
data = pd.read_csv(data_path)


data.shape


data.head()


data.info()


data["Overall rank"].nunique()


data.drop("Overall rank", axis=1, inplace=True)


print(data["Country or region"].nunique())
country = data["Country or region"]


data.drop("Country or region", axis=1, inplace=True)


data.describe().T


data.hist(figsize=(10, 10));


corr = data.corr()


mask = np.triu(np.ones_like(corr, dtype=bool))


plt.figure(figsize=(15, 10))
sns.heatmap(corr, mask=mask, annot=True, fmt=".2f");


plt.figure(figsize=(10, 10))
sns.boxplot(data=data, orient="h");


from sklearn.preprocessing import MinMaxScaler

scaler = MinMaxScaler()
X_scaled = scaler.fit_transform(data)
data_scaled = pd.DataFrame(X_scaled, columns=data.columns)
data_scaled.head()


plt.figure(figsize=(10, 10))
sns.boxplot(data=data_scaled, orient="h");


from sklearn.manifold import TSNE

tsne = TSNE(n_components=2, random_state=10)
print(X_scaled.shape)
X_tsne = tsne.fit_transform(X_scaled)
print(X_tsne.shape)


sns.scatterplot(x=X_tsne[:, 0], y=X_tsne[:, 1]);


plt.figure(figsize=(20, 10))
linkage_ = linkage(X_scaled, method="ward")
dendrogram_ = dendrogram(linkage_)


silhouette = []
for i in tqdm(range(2, 11)):
    agg = AgglomerativeClustering(n_clusters=i).fit(X_scaled)
    labels = agg.labels_
    score = silhouette_score(X_scaled, labels)
    silhouette.append(score)


plt.plot(range(2, 11), silhouette, marker="o");


agg = AgglomerativeClustering(n_clusters=3).fit(X_scaled)
labels = agg.labels_


sns.scatterplot(x=X_tsne[:, 0], y=X_tsne[:, 1], hue=labels, palette="rainbow");


data["labels"] = labels


data["labels"].value_counts(normalize=True)


for col in data.columns:
    sns.boxplot(data=data, x=col, y=labels, orient="h")
    plt.show();


data.groupby("labels").median().T.round(2)


eps_range = np.arange(0.1, 1, 0.01)
dbscan_clustering(eps_range, X_scaled)


eps_range = np.arange(0.1, 0.4, 0.01)
dbscan_clustering(eps_range, X_scaled)


eps_range = np.arange(0.2, 0.4, 0.01)
dbscan_clustering(eps_range, X_scaled)


eps_range = np.arange(0.23, 0.26, 0.005)
dbscan_clustering(eps_range, X_scaled)


dbscan = DBSCAN(eps=0.245).fit(X_scaled)
labels = dbscan.labels_


sns.scatterplot(x=X_tsne[:, 0], y=X_tsne[:, 1], hue=labels, palette="rainbow");


data["labels"] = labels
data["labels"].value_counts(normalize=True)


data.groupby("labels").median().T.round(2)
